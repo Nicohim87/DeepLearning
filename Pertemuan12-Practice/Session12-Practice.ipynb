{
 "cells": [
  {
   "cell_type": "code",
   "execution_count": 1,
   "metadata": {},
   "outputs": [],
   "source": [
    "import tensorflow as tf\n",
    "import numpy as np\n",
    "import os"
   ]
  },
  {
   "cell_type": "code",
   "execution_count": 2,
   "metadata": {},
   "outputs": [],
   "source": [
    "DATASET_PATH = \"./Dataset/Logos/\"\n",
    "INP_SIZE = (100, 100)\n",
    "\n",
    "images = []"
   ]
  },
  {
   "cell_type": "code",
   "execution_count": 3,
   "metadata": {},
   "outputs": [],
   "source": [
    "for filename in os.listdir(DATASET_PATH):\n",
    "    img = tf.keras.utils.load_img(os.path.join(DATASET_PATH, filename), target_size = INP_SIZE)\n",
    "    img = tf.keras.utils.img_to_array(img)\n",
    "    images.append(img)"
   ]
  },
  {
   "cell_type": "code",
   "execution_count": 4,
   "metadata": {},
   "outputs": [],
   "source": [
    "images = np.asarray(images).astype(np.float32) / 255"
   ]
  },
  {
   "cell_type": "code",
   "execution_count": 5,
   "metadata": {},
   "outputs": [],
   "source": [
    "x_train = images[:-10]\n",
    "x_test = images[-10:]"
   ]
  },
  {
   "cell_type": "code",
   "execution_count": 6,
   "metadata": {},
   "outputs": [],
   "source": [
    "BATCH_SIZE = 5\n",
    "EPOCHS = 25\n",
    "LEARNING_RATE = 1e-4\n",
    "\n",
    "IMG_ORIGINAL_SIZE = x_train[0].shape\n",
    "IMG_SIZE = IMG_ORIGINAL_SIZE[0]*IMG_ORIGINAL_SIZE[1]*IMG_ORIGINAL_SIZE[2]\n",
    "\n",
    "HIDDEN_DIM = 128\n",
    "LATENT_DIM = 16"
   ]
  },
  {
   "cell_type": "code",
   "execution_count": 7,
   "metadata": {},
   "outputs": [],
   "source": [
    "class VAE(tf.keras.Model):\n",
    "    def __init__(self, dim, **kwargs):\n",
    "        super(VAE, self).__init__(**kwargs)\n",
    "        \n",
    "        h_dim = dim[0]\n",
    "        z_dim = dim[1]\n",
    "        \n",
    "        self.fc1 = tf.keras.layers.Dense(h_dim, activation = tf.nn.relu)\n",
    "        self.fc2 = tf.keras.layers.Dense(z_dim)\n",
    "        self.fc3 = tf.keras.layers.Dense(z_dim)\n",
    "        \n",
    "        self.fc4 = tf.keras.layers.Dense(h_dim)\n",
    "        self.fc5 = tf.keras.layers.Dense(IMG_SIZE)\n",
    "        \n",
    "        self.encode_batch_norm = tf.keras.layers.BatchNormalization()\n",
    "        self.decode_batch_norm = tf.keras.layers.BatchNormalization()\n",
    "        \n",
    "    def encode(self, input):\n",
    "        x = self.encode_batch_norm(input)\n",
    "        h = self.fc1(x)\n",
    "        return self.fc2(h), self.fc3(h)\n",
    "    \n",
    "    def decode_logits(self, x):\n",
    "        h = self.fc4(x)\n",
    "        h = self.fc5(h)\n",
    "        return self.decode_batch_norm(h)\n",
    "    \n",
    "    def decode(self, x):\n",
    "        return tf.nn.sigmoid(self.decode_logits(x))\n",
    "    \n",
    "    def reparameterize(self, mu, sigma):\n",
    "        std = tf.exp(sigma * 0.5)\n",
    "        eps = tf.random.normal(std.shape)\n",
    "        return mu + eps*std\n",
    "    \n",
    "    def call(self, input):\n",
    "        mu, sigma = self.encode(input)\n",
    "        z = self.reparameterize(mu, sigma)\n",
    "        logits = self.decode_logits(z)\n",
    "        \n",
    "        return logits, mu, sigma"
   ]
  },
  {
   "cell_type": "code",
   "execution_count": 8,
   "metadata": {},
   "outputs": [
    {
     "name": "stderr",
     "output_type": "stream",
     "text": [
      "d:\\Apps\\Conda\\envs\\TensorFlow\\Lib\\site-packages\\keras\\src\\layers\\layer.py:391: UserWarning: `build()` was called on layer 'vae', however the layer does not have a `build()` method implemented and it looks like it has unbuilt state. This will cause the layer to be marked as built, despite not being actually built, which may cause failures down the line. Make sure to implement a proper `build()` method.\n",
      "  warnings.warn(\n"
     ]
    },
    {
     "data": {
      "text/html": [
       "<pre style=\"white-space:pre;overflow-x:auto;line-height:normal;font-family:Menlo,'DejaVu Sans Mono',consolas,'Courier New',monospace\"><span style=\"font-weight: bold\">Model: \"vae\"</span>\n",
       "</pre>\n"
      ],
      "text/plain": [
       "\u001b[1mModel: \"vae\"\u001b[0m\n"
      ]
     },
     "metadata": {},
     "output_type": "display_data"
    },
    {
     "data": {
      "text/html": [
       "<pre style=\"white-space:pre;overflow-x:auto;line-height:normal;font-family:Menlo,'DejaVu Sans Mono',consolas,'Courier New',monospace\">┏━━━━━━━━━━━━━━━━━━━━━━━━━━━━━━━━━┳━━━━━━━━━━━━━━━━━━━━━━━━┳━━━━━━━━━━━━━━━┓\n",
       "┃<span style=\"font-weight: bold\"> Layer (type)                    </span>┃<span style=\"font-weight: bold\"> Output Shape           </span>┃<span style=\"font-weight: bold\">       Param # </span>┃\n",
       "┡━━━━━━━━━━━━━━━━━━━━━━━━━━━━━━━━━╇━━━━━━━━━━━━━━━━━━━━━━━━╇━━━━━━━━━━━━━━━┩\n",
       "│ dense (<span style=\"color: #0087ff; text-decoration-color: #0087ff\">Dense</span>)                   │ ?                      │   <span style=\"color: #00af00; text-decoration-color: #00af00\">0</span> (unbuilt) │\n",
       "├─────────────────────────────────┼────────────────────────┼───────────────┤\n",
       "│ dense_1 (<span style=\"color: #0087ff; text-decoration-color: #0087ff\">Dense</span>)                 │ ?                      │   <span style=\"color: #00af00; text-decoration-color: #00af00\">0</span> (unbuilt) │\n",
       "├─────────────────────────────────┼────────────────────────┼───────────────┤\n",
       "│ dense_2 (<span style=\"color: #0087ff; text-decoration-color: #0087ff\">Dense</span>)                 │ ?                      │   <span style=\"color: #00af00; text-decoration-color: #00af00\">0</span> (unbuilt) │\n",
       "├─────────────────────────────────┼────────────────────────┼───────────────┤\n",
       "│ dense_3 (<span style=\"color: #0087ff; text-decoration-color: #0087ff\">Dense</span>)                 │ ?                      │   <span style=\"color: #00af00; text-decoration-color: #00af00\">0</span> (unbuilt) │\n",
       "├─────────────────────────────────┼────────────────────────┼───────────────┤\n",
       "│ dense_4 (<span style=\"color: #0087ff; text-decoration-color: #0087ff\">Dense</span>)                 │ ?                      │   <span style=\"color: #00af00; text-decoration-color: #00af00\">0</span> (unbuilt) │\n",
       "├─────────────────────────────────┼────────────────────────┼───────────────┤\n",
       "│ batch_normalization             │ ?                      │   <span style=\"color: #00af00; text-decoration-color: #00af00\">0</span> (unbuilt) │\n",
       "│ (<span style=\"color: #0087ff; text-decoration-color: #0087ff\">BatchNormalization</span>)            │                        │               │\n",
       "├─────────────────────────────────┼────────────────────────┼───────────────┤\n",
       "│ batch_normalization_1           │ ?                      │   <span style=\"color: #00af00; text-decoration-color: #00af00\">0</span> (unbuilt) │\n",
       "│ (<span style=\"color: #0087ff; text-decoration-color: #0087ff\">BatchNormalization</span>)            │                        │               │\n",
       "└─────────────────────────────────┴────────────────────────┴───────────────┘\n",
       "</pre>\n"
      ],
      "text/plain": [
       "┏━━━━━━━━━━━━━━━━━━━━━━━━━━━━━━━━━┳━━━━━━━━━━━━━━━━━━━━━━━━┳━━━━━━━━━━━━━━━┓\n",
       "┃\u001b[1m \u001b[0m\u001b[1mLayer (type)                   \u001b[0m\u001b[1m \u001b[0m┃\u001b[1m \u001b[0m\u001b[1mOutput Shape          \u001b[0m\u001b[1m \u001b[0m┃\u001b[1m \u001b[0m\u001b[1m      Param #\u001b[0m\u001b[1m \u001b[0m┃\n",
       "┡━━━━━━━━━━━━━━━━━━━━━━━━━━━━━━━━━╇━━━━━━━━━━━━━━━━━━━━━━━━╇━━━━━━━━━━━━━━━┩\n",
       "│ dense (\u001b[38;5;33mDense\u001b[0m)                   │ ?                      │   \u001b[38;5;34m0\u001b[0m (unbuilt) │\n",
       "├─────────────────────────────────┼────────────────────────┼───────────────┤\n",
       "│ dense_1 (\u001b[38;5;33mDense\u001b[0m)                 │ ?                      │   \u001b[38;5;34m0\u001b[0m (unbuilt) │\n",
       "├─────────────────────────────────┼────────────────────────┼───────────────┤\n",
       "│ dense_2 (\u001b[38;5;33mDense\u001b[0m)                 │ ?                      │   \u001b[38;5;34m0\u001b[0m (unbuilt) │\n",
       "├─────────────────────────────────┼────────────────────────┼───────────────┤\n",
       "│ dense_3 (\u001b[38;5;33mDense\u001b[0m)                 │ ?                      │   \u001b[38;5;34m0\u001b[0m (unbuilt) │\n",
       "├─────────────────────────────────┼────────────────────────┼───────────────┤\n",
       "│ dense_4 (\u001b[38;5;33mDense\u001b[0m)                 │ ?                      │   \u001b[38;5;34m0\u001b[0m (unbuilt) │\n",
       "├─────────────────────────────────┼────────────────────────┼───────────────┤\n",
       "│ batch_normalization             │ ?                      │   \u001b[38;5;34m0\u001b[0m (unbuilt) │\n",
       "│ (\u001b[38;5;33mBatchNormalization\u001b[0m)            │                        │               │\n",
       "├─────────────────────────────────┼────────────────────────┼───────────────┤\n",
       "│ batch_normalization_1           │ ?                      │   \u001b[38;5;34m0\u001b[0m (unbuilt) │\n",
       "│ (\u001b[38;5;33mBatchNormalization\u001b[0m)            │                        │               │\n",
       "└─────────────────────────────────┴────────────────────────┴───────────────┘\n"
      ]
     },
     "metadata": {},
     "output_type": "display_data"
    },
    {
     "data": {
      "text/html": [
       "<pre style=\"white-space:pre;overflow-x:auto;line-height:normal;font-family:Menlo,'DejaVu Sans Mono',consolas,'Courier New',monospace\"><span style=\"font-weight: bold\"> Total params: </span><span style=\"color: #00af00; text-decoration-color: #00af00\">0</span> (0.00 B)\n",
       "</pre>\n"
      ],
      "text/plain": [
       "\u001b[1m Total params: \u001b[0m\u001b[38;5;34m0\u001b[0m (0.00 B)\n"
      ]
     },
     "metadata": {},
     "output_type": "display_data"
    },
    {
     "data": {
      "text/html": [
       "<pre style=\"white-space:pre;overflow-x:auto;line-height:normal;font-family:Menlo,'DejaVu Sans Mono',consolas,'Courier New',monospace\"><span style=\"font-weight: bold\"> Trainable params: </span><span style=\"color: #00af00; text-decoration-color: #00af00\">0</span> (0.00 B)\n",
       "</pre>\n"
      ],
      "text/plain": [
       "\u001b[1m Trainable params: \u001b[0m\u001b[38;5;34m0\u001b[0m (0.00 B)\n"
      ]
     },
     "metadata": {},
     "output_type": "display_data"
    },
    {
     "data": {
      "text/html": [
       "<pre style=\"white-space:pre;overflow-x:auto;line-height:normal;font-family:Menlo,'DejaVu Sans Mono',consolas,'Courier New',monospace\"><span style=\"font-weight: bold\"> Non-trainable params: </span><span style=\"color: #00af00; text-decoration-color: #00af00\">0</span> (0.00 B)\n",
       "</pre>\n"
      ],
      "text/plain": [
       "\u001b[1m Non-trainable params: \u001b[0m\u001b[38;5;34m0\u001b[0m (0.00 B)\n"
      ]
     },
     "metadata": {},
     "output_type": "display_data"
    }
   ],
   "source": [
    "model = VAE([HIDDEN_DIM, LATENT_DIM])\n",
    "model.build(input_shape = (BATCH_SIZE, IMG_SIZE))\n",
    "model.summary()"
   ]
  },
  {
   "cell_type": "code",
   "execution_count": 9,
   "metadata": {},
   "outputs": [],
   "source": [
    "dataset = tf.data.Dataset.from_tensor_slices(x_train)\n",
    "dataset = dataset.shuffle(BATCH_SIZE).batch(BATCH_SIZE).prefetch(tf.data.AUTOTUNE)\n",
    "\n",
    "optimizer = tf.keras.optimizers.Adam(learning_rate = LEARNING_RATE)"
   ]
  },
  {
   "cell_type": "code",
   "execution_count": 11,
   "metadata": {},
   "outputs": [
    {
     "name": "stdout",
     "output_type": "stream",
     "text": [
      "Epoch #1 | Loss = 8746.494140625 | kl_div = 507.01348876953125 | loss = 9253.5078125\n",
      "Epoch #2 | Loss = 3826.444580078125 | kl_div = 528.7061767578125 | loss = 4355.15087890625\n",
      "Epoch #3 | Loss = 3818.872314453125 | kl_div = 495.6114807128906 | loss = 4314.48388671875\n",
      "Epoch #4 | Loss = 3385.748046875 | kl_div = 420.10992431640625 | loss = 3805.85791015625\n",
      "Epoch #5 | Loss = 5272.490234375 | kl_div = 381.5404968261719 | loss = 5654.03076171875\n",
      "Epoch #6 | Loss = 3236.49267578125 | kl_div = 361.78546142578125 | loss = 3598.278076171875\n",
      "Epoch #7 | Loss = 3144.88232421875 | kl_div = 401.7567443847656 | loss = 3546.63916015625\n",
      "Epoch #8 | Loss = 3049.0390625 | kl_div = 364.1871032714844 | loss = 3413.22607421875\n",
      "Epoch #9 | Loss = 5611.78369140625 | kl_div = 255.07177734375 | loss = 5866.85546875\n",
      "Epoch #10 | Loss = 6200.9267578125 | kl_div = 256.6893005371094 | loss = 6457.6162109375\n",
      "Epoch #11 | Loss = 3742.844482421875 | kl_div = 258.62884521484375 | loss = 4001.473388671875\n",
      "Epoch #12 | Loss = 3736.6640625 | kl_div = 264.3279724121094 | loss = 4000.991943359375\n",
      "Epoch #13 | Loss = 2857.893798828125 | kl_div = 276.83331298828125 | loss = 3134.72705078125\n",
      "Epoch #14 | Loss = 2905.524169921875 | kl_div = 282.53271484375 | loss = 3188.056884765625\n",
      "Epoch #15 | Loss = 4799.4970703125 | kl_div = 372.4053955078125 | loss = 5171.90234375\n",
      "Epoch #16 | Loss = 3007.684814453125 | kl_div = 265.560791015625 | loss = 3273.24560546875\n",
      "Epoch #17 | Loss = 6407.1005859375 | kl_div = 255.97946166992188 | loss = 6663.080078125\n",
      "Epoch #18 | Loss = 4885.40625 | kl_div = 268.6269836425781 | loss = 5154.033203125\n",
      "Epoch #19 | Loss = 5519.65380859375 | kl_div = 209.63143920898438 | loss = 5729.28515625\n",
      "Epoch #20 | Loss = 4513.40087890625 | kl_div = 217.42041015625 | loss = 4730.8212890625\n",
      "Epoch #21 | Loss = 3038.720703125 | kl_div = 243.73263549804688 | loss = 3282.453369140625\n",
      "Epoch #22 | Loss = 4732.64306640625 | kl_div = 284.01959228515625 | loss = 5016.66259765625\n",
      "Epoch #23 | Loss = 4380.6533203125 | kl_div = 267.15399169921875 | loss = 4647.80712890625\n",
      "Epoch #24 | Loss = 3057.118408203125 | kl_div = 280.3609924316406 | loss = 3337.4794921875\n",
      "Epoch #25 | Loss = 5908.23779296875 | kl_div = 297.78558349609375 | loss = 6206.0234375\n"
     ]
    }
   ],
   "source": [
    "loss_hist = []\n",
    "kl_div_hist = []\n",
    "\n",
    "for e in range(EPOCHS):\n",
    "    for x in dataset:\n",
    "        x = tf.reshape(x, [-1, IMG_SIZE])\n",
    "        with tf.GradientTape() as tape:\n",
    "            logits, mu, sigma = model(x)\n",
    "            \n",
    "            recon_loss = tf.nn.sigmoid_cross_entropy_with_logits(x, logits)\n",
    "            recon_loss = tf.reduce_sum(recon_loss) / BATCH_SIZE\n",
    "            \n",
    "            kl_div = -0.5 * tf.reduce_sum(1.0 + sigma - tf.square(mu) - tf.exp(sigma), axis=1)\n",
    "            kl_div = tf.reduce_mean(kl_div)\n",
    "            \n",
    "            loss = tf.reduce_mean(kl_div + recon_loss)\n",
    "            \n",
    "        gradient = tape.gradient(loss, model.trainable_variables)\n",
    "        optimizer.apply_gradients(zip(gradient, model.trainable_variables))\n",
    "        \n",
    "        loss_hist.append(loss)\n",
    "        kl_div_hist.append(kl_div)\n",
    "        \n",
    "    print(f\"Epoch #{e+1} | Loss = {recon_loss} | kl_div = {kl_div} | loss = {loss}\")"
   ]
  },
  {
   "cell_type": "code",
   "execution_count": 12,
   "metadata": {},
   "outputs": [],
   "source": [
    "import matplotlib.pyplot as plt"
   ]
  },
  {
   "cell_type": "code",
   "execution_count": 15,
   "metadata": {},
   "outputs": [
    {
     "data": {
      "image/png": "[encoded data removed]",
      "text/plain": [
       "<Figure size 640x480 with 2 Axes>"
      ]
     },
     "metadata": {},
     "output_type": "display_data"
    }
   ],
   "source": [
    "plt.subplot(1, 2, 1)\n",
    "plt.plot(loss_hist)\n",
    "plt.title(\"Loss\")\n",
    "plt.ylabel(\"Epochs\")\n",
    "plt.ylabel(\"Loss\")\n",
    "\n",
    "plt.subplot(1, 2, 2)\n",
    "plt.plot(kl_div)\n",
    "plt.title(\"Kl Divergence\")\n",
    "plt.ylabel(\"Epochs\")\n",
    "plt.ylabel(\"Kl_Div\")\n",
    "\n",
    "plt.show()"
   ]
  },
  {
   "cell_type": "code",
   "execution_count": null,
   "metadata": {},
   "outputs": [],
   "source": [
    "def get_img(z):\n",
    "    out = model.decode(z)\n",
    "    out = tf.reshape(out, [-1] + list(IMG_ORIGINAL_SIZE))\n",
    "    return out"
   ]
  },
  {
   "cell_type": "code",
   "execution_count": null,
   "metadata": {},
   "outputs": [],
   "source": [
    "mu, sigma = model.encode(x_test.reshape(-1, IMG_SIZE))\n",
    "z = model.reparameterize(mu, sigma)\n",
    "recon_img = get_img(z)"
   ]
  },
  {
   "cell_type": "code",
   "execution_count": null,
   "metadata": {},
   "outputs": [],
   "source": [
    "fig, ax = plt.subplot(nrows = 2, ncols = len(x_test))\n",
    "for i in len(x_test):\n",
    "    ax[0, i].imshow(x_test[i])\n",
    "    ax[0, i].get_xaxis().set_visible(False)\n",
    "    ax[0, i].get_yaxis().set_visible(False)\n",
    "    \n",
    "    ax[1, i].imshow(recon_img[i])\n",
    "    ax[1, i].get_xaxis().set_visible(False)\n",
    "    ax[1, i].get_yaxis().set_visible(False)\n",
    "    \n",
    "plt.show()"
   ]
  }
 ],
 "metadata": {
  "kernelspec": {
   "display_name": "TensorFlow",
   "language": "python",
   "name": "python3"
  },
  "language_info": {
   "codemirror_mode": {
    "name": "ipython",
    "version": 3
   },
   "file_extension": ".py",
   "mimetype": "text/x-python",
   "name": "python",
   "nbconvert_exporter": "python",
   "pygments_lexer": "ipython3",
   "version": "3.12.2"
  }
 },
 "nbformat": 4,
 "nbformat_minor": 2
}
